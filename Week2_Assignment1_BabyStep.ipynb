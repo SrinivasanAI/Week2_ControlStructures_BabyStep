{
 "cells": [
  {
   "cell_type": "code",
   "execution_count": 10,
   "id": "e5cf55d9-6bc0-42ca-883a-c41f945edc41",
   "metadata": {},
   "outputs": [
    {
     "name": "stdout",
     "output_type": "stream",
     "text": [
      "Welcome to Assignment-1\n"
     ]
    },
    {
     "name": "stdin",
     "output_type": "stream",
     "text": [
      "Enter 1st number :  8\n",
      "Enter 2nd number :  8\n"
     ]
    },
    {
     "name": "stdout",
     "output_type": "stream",
     "text": [
      "Addition of 2 numbers is :  16\n"
     ]
    },
    {
     "name": "stdin",
     "output_type": "stream",
     "text": [
      "Enter the BMI 42\n"
     ]
    },
    {
     "name": "stdout",
     "output_type": "stream",
     "text": [
      "BMI Status is :  Extreme Obesity\n"
     ]
    }
   ],
   "source": [
    "#(1) Print message :\n",
    "print(\"Welcome to Assignment-1\")\n",
    "\n",
    "#(2) Addition of 2 numbers :\n",
    "num1 = int(input(\"Enter 1st number : \"))\n",
    "num2 = int(input(\"Enter 2nd number : \"))\n",
    "print(\"Addition of 2 numbers is : \", num1+num2)\n",
    "\n",
    "#(3) BMI Status\n",
    "bmi= float( input(\"Enter the BMI\") )\n",
    "status = \"\"\n",
    "if(bmi<18.5) :\n",
    "    status=\"Underweight\"\n",
    "elif(bmi>=18.5 and bmi<25) :\n",
    "    status=\"Normal weight\"\n",
    "elif(bmi>=25 and bmi<30) :\n",
    "    status=\"Overweight\"\n",
    "elif(bmi>=30 and bmi<35) :\n",
    "    status=\"Obesity\"\n",
    "else :\n",
    "    status=\"Extreme Obesity\"\n",
    "\n",
    "print (\"BMI Status is : \", status)\n"
   ]
  },
  {
   "cell_type": "code",
   "execution_count": null,
   "id": "74d2c959-feba-4242-8828-116e3236b49f",
   "metadata": {},
   "outputs": [],
   "source": []
  }
 ],
 "metadata": {
  "kernelspec": {
   "display_name": "Python 3 (ipykernel)",
   "language": "python",
   "name": "python3"
  },
  "language_info": {
   "codemirror_mode": {
    "name": "ipython",
    "version": 3
   },
   "file_extension": ".py",
   "mimetype": "text/x-python",
   "name": "python",
   "nbconvert_exporter": "python",
   "pygments_lexer": "ipython3",
   "version": "3.12.7"
  }
 },
 "nbformat": 4,
 "nbformat_minor": 5
}
